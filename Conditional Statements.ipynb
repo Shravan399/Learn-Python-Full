{
 "cells": [
  {
   "cell_type": "markdown",
   "id": "b55dd41a",
   "metadata": {},
   "source": [
    "Python supports the usual logical conditions from mathematics:\n",
    "\n",
    "Equals: a == b  \n",
    "Not Equals: a != b  \n",
    "Less than: a < b  \n",
    "Less than or equal to: a <= b  \n",
    "Greater than: a > b  \n",
    "Greater than or equal to: a >= b  \n",
    "These conditions can be used in several ways, most commonly in \"if statements\" and loops."
   ]
  },
  {
   "cell_type": "markdown",
   "id": "3f087e77",
   "metadata": {},
   "source": [
    "# If\n"
   ]
  },
  {
   "cell_type": "code",
   "execution_count": 8,
   "id": "8b0298a6",
   "metadata": {},
   "outputs": [
    {
     "name": "stdout",
     "output_type": "stream",
     "text": [
      "This line will print always\n"
     ]
    }
   ],
   "source": [
    "num = 0\n",
    "\n",
    "if(num):\n",
    "     print('Number is positive')\n",
    "\n",
    "print('This line will print always')\n",
    "\n",
    "# # if -1 and 0:\n",
    "# # 0, None, -ve, +ve"
   ]
  },
  {
   "cell_type": "code",
   "execution_count": 9,
   "id": "81473618",
   "metadata": {},
   "outputs": [
    {
     "name": "stdout",
     "output_type": "stream",
     "text": [
      "Number is positive\n",
      "This line will print always\n"
     ]
    }
   ],
   "source": [
    "num = 1\n",
    "\n",
    "if(num):\n",
    "     print('Number is positive')\n",
    "\n",
    "print('This line will print always')"
   ]
  },
  {
   "cell_type": "markdown",
   "id": "d0a07126",
   "metadata": {},
   "source": [
    " The code assigns the value 0 to the variable num.\n",
    "In Python, 0 is considered \"falsy,\" meaning it is evaluated as false in a boolean context. \n",
    "Therefore, the condition if num will evaluate to false, and the code block within the if statement will not execute.\n",
    "\n",
    "\n",
    "After the if block, the code continues to execute the next line, print('This line will print always'). \n",
    "This line is not indented and does not belong to the if block, so it will always be executed, regardless of the condition inside the if statement."
   ]
  },
  {
   "cell_type": "code",
   "execution_count": 10,
   "id": "a734ca67",
   "metadata": {},
   "outputs": [
    {
     "name": "stdout",
     "output_type": "stream",
     "text": [
      "b is greater than a\n"
     ]
    }
   ],
   "source": [
    "a = 33\n",
    "b = 200\n",
    "if b > a:\n",
    "  print(\"b is greater than a\")"
   ]
  },
  {
   "cell_type": "code",
   "execution_count": 12,
   "id": "c5563683",
   "metadata": {},
   "outputs": [],
   "source": [
    "a = 33\n",
    "b = 200\n",
    "if b < a:\n",
    "  print(\"b is greater than a\")"
   ]
  },
  {
   "cell_type": "markdown",
   "id": "15a2fd49",
   "metadata": {},
   "source": [
    "# ELIF"
   ]
  },
  {
   "cell_type": "code",
   "execution_count": 15,
   "id": "b20772a7",
   "metadata": {},
   "outputs": [
    {
     "name": "stdout",
     "output_type": "stream",
     "text": [
      "a and b are equal\n"
     ]
    }
   ],
   "source": [
    "a = 33\n",
    "b = 33\n",
    "if b > a:\n",
    "  print(\"b is greater than a\")\n",
    "elif a == b:\n",
    "  print(\"a and b are equal\")\n"
   ]
  },
  {
   "cell_type": "markdown",
   "id": "d2e205cf",
   "metadata": {},
   "source": [
    "# ELSE"
   ]
  },
  {
   "cell_type": "code",
   "execution_count": 17,
   "id": "c048ca3b",
   "metadata": {},
   "outputs": [
    {
     "name": "stdout",
     "output_type": "stream",
     "text": [
      "a is greater than b\n"
     ]
    }
   ],
   "source": [
    "a = 200\n",
    "b = 33\n",
    "if b > a:\n",
    "  print(\"b is greater than a\")\n",
    "elif a == b:\n",
    "  print(\"a and b are equal\")\n",
    "else:\n",
    "  print(\"a is greater than b\")"
   ]
  },
  {
   "cell_type": "code",
   "execution_count": 18,
   "id": "533c9a6d",
   "metadata": {},
   "outputs": [
    {
     "name": "stdout",
     "output_type": "stream",
     "text": [
      "Both conditions are True\n"
     ]
    }
   ],
   "source": [
    "#AND\n",
    "\n",
    "a = 200\n",
    "b = 33\n",
    "c = 500\n",
    "if a > b and c > a:\n",
    "  print(\"Both conditions are True\")"
   ]
  },
  {
   "cell_type": "code",
   "execution_count": 23,
   "id": "539b0017",
   "metadata": {},
   "outputs": [
    {
     "name": "stdout",
     "output_type": "stream",
     "text": [
      "At least one of the conditions is True\n"
     ]
    }
   ],
   "source": [
    "#OR\n",
    "\n",
    "a = 200\n",
    "b = 33\n",
    "c = 500\n",
    "if a > b or a > c:\n",
    "  print(\"At least one of the conditions is True\")"
   ]
  },
  {
   "cell_type": "markdown",
   "id": "590d56c9",
   "metadata": {},
   "source": [
    "# Nested If"
   ]
  },
  {
   "cell_type": "code",
   "execution_count": 22,
   "id": "30bd3a64",
   "metadata": {},
   "outputs": [
    {
     "name": "stdout",
     "output_type": "stream",
     "text": [
      "Above ten,\n",
      "and also above 20!\n"
     ]
    }
   ],
   "source": [
    "x = 41\n",
    "\n",
    "if x > 10:\n",
    "  print(\"Above ten,\")\n",
    "  if x > 20:\n",
    "    print(\"and also above 20!\")\n",
    "else:\n",
    "    print(\"but not above 20.\")"
   ]
  },
  {
   "cell_type": "code",
   "execution_count": 26,
   "id": "3d9ad832",
   "metadata": {},
   "outputs": [],
   "source": [
    "a = 33\n",
    "b = 200\n",
    "\n",
    "if b > a:\n",
    "    pass"
   ]
  },
  {
   "cell_type": "markdown",
   "id": "3cab92a7",
   "metadata": {},
   "source": [
    "# if statements cannot be empty, but if you for some reason have an if statement with no content, put in the pass statement to avoid getting an error."
   ]
  }
 ],
 "metadata": {
  "kernelspec": {
   "display_name": "Python 3 (ipykernel)",
   "language": "python",
   "name": "python3"
  },
  "language_info": {
   "codemirror_mode": {
    "name": "ipython",
    "version": 3
   },
   "file_extension": ".py",
   "mimetype": "text/x-python",
   "name": "python",
   "nbconvert_exporter": "python",
   "pygments_lexer": "ipython3",
   "version": "3.9.13"
  },
  "nbTranslate": {
   "displayLangs": [
    "*"
   ],
   "hotkey": "alt-t",
   "langInMainMenu": true,
   "sourceLang": "en",
   "targetLang": "fr",
   "useGoogleTranslate": true
  }
 },
 "nbformat": 4,
 "nbformat_minor": 5
}
