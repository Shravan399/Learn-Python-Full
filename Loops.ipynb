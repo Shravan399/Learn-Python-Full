{
 "cells": [
  {
   "cell_type": "markdown",
   "id": "40857bc6",
   "metadata": {},
   "source": [
    "# For Loop"
   ]
  },
  {
   "cell_type": "markdown",
   "id": "26a3e50a",
   "metadata": {},
   "source": [
    "A for loop is used for iterating over a sequence (that is either a list, a tuple, a dictionary, a set, or a string).\n",
    "\n",
    "This is less like the for keyword in other programming languages, and works more like an iterator method as found in other object-orientated programming languages.\n",
    "\n",
    "With the for loop we can execute a set of statements, once for each item in a list, tuple, set etc.\n"
   ]
  },
  {
   "cell_type": "code",
   "execution_count": 1,
   "id": "c388c56f",
   "metadata": {},
   "outputs": [
    {
     "name": "stdout",
     "output_type": "stream",
     "text": [
      "1 is odd\n",
      "2 is even\n",
      "3 is odd\n",
      "4 is even\n",
      "5 is odd\n",
      "6 is even\n",
      "7 is odd\n",
      "8 is even\n",
      "9 is odd\n",
      "10 is even\n",
      "11 is odd\n",
      "12 is even\n",
      "13 is odd\n",
      "14 is even\n",
      "15 is odd\n",
      "16 is even\n",
      "17 is odd\n",
      "18 is even\n",
      "19 is odd\n",
      "20 is even\n"
     ]
    }
   ],
   "source": [
    "\n",
    "for i in range(1, 21):\n",
    "    if i % 2 == 0:\n",
    "        print(f\"{i} is even\")\n",
    "    else:\n",
    "        print(f\"{i} is odd\")\n"
   ]
  },
  {
   "cell_type": "code",
   "execution_count": 2,
   "id": "4f271cbc",
   "metadata": {},
   "outputs": [
    {
     "name": "stdout",
     "output_type": "stream",
     "text": [
      "0\n",
      "1\n",
      "2\n",
      "3\n",
      "4\n",
      "5\n"
     ]
    }
   ],
   "source": [
    "for x in range(6):\n",
    "    print(x)"
   ]
  },
  {
   "cell_type": "code",
   "execution_count": 3,
   "id": "c96ae70c",
   "metadata": {},
   "outputs": [
    {
     "name": "stdout",
     "output_type": "stream",
     "text": [
      "2\n",
      "5\n",
      "8\n",
      "11\n",
      "14\n",
      "17\n",
      "20\n",
      "23\n",
      "26\n",
      "29\n"
     ]
    }
   ],
   "source": [
    "for x in range(2, 30, 3):\n",
    "    print(x)"
   ]
  },
  {
   "cell_type": "code",
   "execution_count": 4,
   "id": "2a3586fb",
   "metadata": {},
   "outputs": [
    {
     "name": "stdout",
     "output_type": "stream",
     "text": [
      "0\n",
      "1\n",
      "2\n"
     ]
    }
   ],
   "source": [
    "for x in range(6):\n",
    "    if x == 3: break\n",
    "    print(x)\n",
    "else:\n",
    "    print(\"Finally finished!\")"
   ]
  },
  {
   "cell_type": "code",
   "execution_count": 5,
   "id": "fc2173b1",
   "metadata": {},
   "outputs": [
    {
     "name": "stdout",
     "output_type": "stream",
     "text": [
      "apple\n",
      "banana\n",
      "cherry\n"
     ]
    }
   ],
   "source": [
    "fruits = [\"apple\", \"banana\", \"cherry\"]\n",
    "for x in fruits:\n",
    "    print(x)"
   ]
  },
  {
   "cell_type": "code",
   "execution_count": 6,
   "id": "81a06977",
   "metadata": {},
   "outputs": [
    {
     "name": "stdout",
     "output_type": "stream",
     "text": [
      "10\n",
      "20\n",
      "30\n",
      "40\n"
     ]
    }
   ],
   "source": [
    "tup = (10, 20, 30, 40)\n",
    "\n",
    "for x in tup:\n",
    "     print(x)\n",
    "    \n",
    "# print('Finish')\n"
   ]
  },
  {
   "cell_type": "code",
   "execution_count": 7,
   "id": "9820b45c",
   "metadata": {},
   "outputs": [
    {
     "name": "stdout",
     "output_type": "stream",
     "text": [
      "Product = 120\n"
     ]
    }
   ],
   "source": [
    "tup = (1,2,3,4,5)\n",
    "\n",
    "prod = 1\n",
    "\n",
    "for item in tup:\n",
    "    prod *= item\n",
    "\n",
    "print('Product = {}'.format(prod))\n"
   ]
  },
  {
   "cell_type": "code",
   "execution_count": 8,
   "id": "517739ce",
   "metadata": {},
   "outputs": [
    {
     "name": "stdout",
     "output_type": "stream",
     "text": [
      "10\n",
      "20\n",
      "30\n",
      "40\n",
      "50\n",
      "60\n"
     ]
    }
   ],
   "source": [
    "# Iterating directly element by element\n",
    "\n",
    "\n",
    "# Iterating by sequence index\n",
    "lst = [10,20,30,40,50,60]\n",
    "for index in range(len(lst)):\n",
    "    print(lst[index])"
   ]
  },
  {
   "cell_type": "code",
   "execution_count": 9,
   "id": "7df3da4a",
   "metadata": {},
   "outputs": [
    {
     "name": "stdout",
     "output_type": "stream",
     "text": [
      "LIST ITERATION: \n",
      "10 20 30 40 50 60 \n",
      "TUPLE ITERATION: \n",
      "10 20 30 40 50 60 \n",
      "STRING ITERATION: \n",
      "P y t h o n \n",
      "DICTIONARY ITERATION: \n",
      "xyz 123\n",
      "abc 345\n"
     ]
    }
   ],
   "source": [
    "print('LIST ITERATION: ')\n",
    "lst = [10,20,30,40,50,60]\n",
    "for element in lst:\n",
    "    print(element, end=' ')\n",
    "print()\n",
    "\n",
    "print('TUPLE ITERATION: ')\n",
    "tup = (10,20,30,40,50,60)\n",
    "for element in tup:\n",
    "    print(element, end=' ')\n",
    "print()\n",
    "\n",
    "print('STRING ITERATION: ')\n",
    "myStr = 'Python'\n",
    "for element in myStr:\n",
    "    print(element, end=' ')\n",
    "print()\n",
    "\n",
    "print('DICTIONARY ITERATION: ')\n",
    "dict = {}\n",
    "dict['xyz'] = 123\n",
    "dict['abc'] = 345\n",
    "for key in dict:\n",
    "    print(key, dict[key])"
   ]
  },
  {
   "cell_type": "code",
   "execution_count": 10,
   "id": "de8fbd63",
   "metadata": {},
   "outputs": [
    {
     "name": "stdout",
     "output_type": "stream",
     "text": [
      "LIST ITERATION: \n",
      "10\n",
      "20\n",
      "30\n",
      "40\n",
      "50\n",
      "60\n",
      "\n"
     ]
    }
   ],
   "source": [
    "print('LIST ITERATION: ')\n",
    "lst = [10,20,30,40,50,60]\n",
    "for element in lst:\n",
    "    print(element)\n",
    "print()\n"
   ]
  },
  {
   "cell_type": "code",
   "execution_count": 11,
   "id": "5a7705f5",
   "metadata": {},
   "outputs": [
    {
     "name": "stdout",
     "output_type": "stream",
     "text": [
      "You have exhausted the list\n",
      "Product = 120\n"
     ]
    }
   ],
   "source": [
    "tup = (1,2,3,4,5)\n",
    "\n",
    "prod = 1\n",
    "\n",
    "for item in tup:\n",
    "     prod *= item\n",
    "else:\n",
    "    print('You have exhausted the list')\n",
    "\n",
    "print('Product = {}'.format(prod))"
   ]
  },
  {
   "cell_type": "markdown",
   "id": "17a8071c",
   "metadata": {},
   "source": [
    "# While"
   ]
  },
  {
   "cell_type": "code",
   "execution_count": 12,
   "id": "e96dc50f",
   "metadata": {},
   "outputs": [],
   "source": [
    "#count = 0\n",
    "#while(count < 3):\n",
    "#     print('The count is:  ', count)\n",
    "#count = count + 1\n",
    "#print('Good bye! count is: ', count)"
   ]
  },
  {
   "cell_type": "code",
   "execution_count": 13,
   "id": "29570b38",
   "metadata": {},
   "outputs": [
    {
     "name": "stdout",
     "output_type": "stream",
     "text": [
      "1\n",
      "2\n",
      "3\n",
      "4\n",
      "5\n",
      "6\n",
      "7\n",
      "8\n",
      "9\n",
      "10\n"
     ]
    }
   ],
   "source": [
    "count = 1\n",
    "\n",
    "while count <= 10:\n",
    "    print(count)\n",
    "    count += 1\n"
   ]
  },
  {
   "cell_type": "markdown",
   "id": "da224ef2",
   "metadata": {},
   "source": [
    "## Membership Operators\n",
    "\n",
    "in and not in are membership operators in Python.\n",
    "\n",
    "Used to find whether a value or variable is found in a sequence."
   ]
  },
  {
   "cell_type": "code",
   "execution_count": 14,
   "id": "a0f0c923",
   "metadata": {},
   "outputs": [
    {
     "name": "stdout",
     "output_type": "stream",
     "text": [
      "False\n",
      "False\n",
      "False\n"
     ]
    }
   ],
   "source": [
    "lst = [1,2,3,4]\n",
    "\n",
    "print(5 in lst)\n",
    "\n",
    "dict = {1:'a', 2:'b'}\n",
    "\n",
    "print('a' in dict)\n",
    "\n",
    "s = 'Python'\n",
    "\n",
    "print('p' in s)"
   ]
  },
  {
   "cell_type": "markdown",
   "id": "eea8f16e",
   "metadata": {},
   "source": [
    "## Continue"
   ]
  },
  {
   "cell_type": "code",
   "execution_count": 15,
   "id": "450e4642",
   "metadata": {},
   "outputs": [
    {
     "name": "stdout",
     "output_type": "stream",
     "text": [
      "9\n",
      "Good bye!\n"
     ]
    }
   ],
   "source": [
    "for count in range(10):\n",
    "    if count == 5:\n",
    "        continue\n",
    "print(count)\n",
    "print('Good bye!')"
   ]
  },
  {
   "cell_type": "markdown",
   "id": "b4bcd9f9",
   "metadata": {},
   "source": [
    "# Break"
   ]
  },
  {
   "cell_type": "code",
   "execution_count": 16,
   "id": "f7187f42",
   "metadata": {},
   "outputs": [
    {
     "name": "stdout",
     "output_type": "stream",
     "text": [
      "The count is:   5\n",
      "Good bye!\n"
     ]
    }
   ],
   "source": [
    "for count in range(10):\n",
    "    if count == 5:\n",
    "        break\n",
    "print('The count is:  ', count)\n",
    "print('Good bye!')"
   ]
  },
  {
   "cell_type": "code",
   "execution_count": 17,
   "id": "423b0ae4",
   "metadata": {},
   "outputs": [
    {
     "name": "stdout",
     "output_type": "stream",
     "text": [
      "huraaaay!\n",
      "huraaaay!\n"
     ]
    }
   ],
   "source": [
    "lst = [1,2,3,4]\n",
    "\n",
    "for item in lst:\n",
    "    if item == 3:\n",
    "        break\n",
    "        print(item)\n",
    "    else:\n",
    "        print('huraaaay!')"
   ]
  },
  {
   "cell_type": "markdown",
   "id": "08f88f79",
   "metadata": {},
   "source": [
    "The loop iterates over the elements 1, 2, and 3 in the list.   \n",
    "Since the break statement is encountered when item is 3, the loop terminates prematurely.   \n",
    "As a result, the print('huraaaay!') statement within the else block is executed for the first two elements (1 and 2), but the remaining elements are not processed."
   ]
  },
  {
   "cell_type": "code",
   "execution_count": null,
   "id": "c9da64c7",
   "metadata": {},
   "outputs": [],
   "source": []
  }
 ],
 "metadata": {
  "kernelspec": {
   "display_name": "Python 3 (ipykernel)",
   "language": "python",
   "name": "python3"
  },
  "language_info": {
   "codemirror_mode": {
    "name": "ipython",
    "version": 3
   },
   "file_extension": ".py",
   "mimetype": "text/x-python",
   "name": "python",
   "nbconvert_exporter": "python",
   "pygments_lexer": "ipython3",
   "version": "3.9.13"
  },
  "nbTranslate": {
   "displayLangs": [
    "*"
   ],
   "hotkey": "alt-t",
   "langInMainMenu": true,
   "sourceLang": "en",
   "targetLang": "fr",
   "useGoogleTranslate": true
  }
 },
 "nbformat": 4,
 "nbformat_minor": 5
}
